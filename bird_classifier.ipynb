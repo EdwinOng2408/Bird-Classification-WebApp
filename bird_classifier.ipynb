{
 "cells": [
  {
   "cell_type": "markdown",
   "id": "b304f952",
   "metadata": {},
   "source": [
    "# Preprocessing for training, validation, and testing data"
   ]
  },
  {
   "cell_type": "code",
   "execution_count": null,
   "id": "4218c03a",
   "metadata": {},
   "outputs": [],
   "source": [
    "def splitfiles(folder, train_folder, val_folder):\n",
    "    \"\"\"Splits data into 80% training, 20% validation\"\"\"\n",
    "    import os\n",
    "    from shutil import move\n",
    "    \n",
    "    all_files = os.listdir(folder)\n",
    "    filecount = len(all_files)\n",
    "    train = int(0.8*filecount)\n",
    "    for i, file in enumerate(all_files):\n",
    "        curr = os.path.join(folder, file)\n",
    "        if i < train:\n",
    "            filepath = os.path.join(train_folder, file)\n",
    "        else:\n",
    "            filepath = os.path.join(val_folder, file)\n",
    "        move(curr, filepath)\n",
    "    return f'{folder} split.'"
   ]
  },
  {
   "cell_type": "code",
   "execution_count": null,
   "id": "21f0cfb4",
   "metadata": {},
   "outputs": [],
   "source": [
    "def unzip(folder):\n",
    "    \"\"\"\n",
    "    Unzips a zip file\n",
    "    \"\"\"\n",
    "    name = folder.rstrip(\".zip\")\n",
    "    from zipfile import ZipFile\n",
    "    with ZipFile(folder, 'r') as zObject:\n",
    "        zObject.extractall(path=name)\n",
    "    return name"
   ]
  },
  {
   "cell_type": "code",
   "execution_count": null,
   "id": "e6706af7",
   "metadata": {},
   "outputs": [],
   "source": [
    "import cv2\n",
    "import imghdr\n",
    "import os\n",
    "    \n",
    "def image_clear(data_dir):\n",
    "    \"\"\"removes unwanted images\"\"\"\n",
    "    \n",
    "    data_fol = os.listdir(data_dir)\n",
    "    img_ext = ['jpeg', 'jpg', 'png', 'bmp']\n",
    "    \n",
    "    for file in data_fol:\n",
    "        filepath = os.path.join(data_dir, file)\n",
    "        size = os.path.getsize(filepath)\n",
    "        ten_kib = 10240\n",
    "        if size < ten_kib:\n",
    "            print(f'{filepath} removed.')\n",
    "            os.remove(filepath)\n",
    "        try:\n",
    "            img = cv2.imread(filepath)\n",
    "            tip = imghdr.what(filepath)\n",
    "            if tip not in img_ext:\n",
    "                os.remove(filepath)\n",
    "        except Exception as e:\n",
    "            pass"
   ]
  },
  {
   "cell_type": "code",
   "execution_count": null,
   "id": "2fdc673a",
   "metadata": {},
   "outputs": [],
   "source": [
    "import requests, csv, re, os, shutil\n",
    "\n",
    "csvarr = []\n",
    "\n",
    "#regex on webpage\n",
    "html = requests.get(\"https://singaporebirds.com/singapore-bird-list/\").text\n",
    "pattern = re.compile(r'<td><a href=\"(.*)\" target=\"_blank\" rel=\"noopener\">(.*)</a></td>')\n",
    "tup = re.findall(pattern, html)\n",
    "\n",
    "birds = os.listdir('ttv/train')\n",
    "birds = [bird.lower() for bird in birds]\n",
    "\n",
    "for url, bird in tup:\n",
    "    if bird.lower() in birds:\n",
    "        csvarr.append([url, bird])\n",
    "\n",
    "#writing into csv\n",
    "with open('bird_url.csv', 'w', newline='') as f:\n",
    "    writer = csv.writer(f)\n",
    "    for url, bird in csvarr:\n",
    "        arr = [bird] + [url] + [0]\n",
    "        print(arr)\n",
    "        writer.writerow(arr)\n",
    "\n",
    "#creation of test folder in path 'static'\n",
    "train_path = input('Train folder path?: ')\n",
    "labels = os.listdir(train_path)\n",
    "target = 'static/test'\n",
    "for label in labels:\n",
    "    allfiles = os.path.join(train_path, label)\n",
    "    img = os.listdir(allfiles)[0]\n",
    "    imgpath = os.path.join(allfiles, img)\n",
    "    shutil.copy(imgpath, target)\n",
    "    mypath = os.path.join(target, img)\n",
    "    os.rename(mypath, os.path.join(target, label+'.jpg'))\n",
    "    print(f'{img} copied from {label}')"
   ]
  },
  {
   "cell_type": "markdown",
   "id": "beb0b470",
   "metadata": {},
   "source": [
    "# Training of deep learning model using InceptionV3 Transfer Learning"
   ]
  },
  {
   "cell_type": "code",
   "execution_count": null,
   "id": "20e43740",
   "metadata": {},
   "outputs": [],
   "source": [
    "#remember to use tf environment\n",
    "from keras.layers import Dense, Flatten, Dropout\n",
    "from keras.models import Model #create and save model\n",
    "from keras.applications.inception_v3 import InceptionV3\n",
    "from keras.preprocessing.image import ImageDataGenerator #generates many images from the same image\n",
    "from keras.optimizers import Adam\n",
    "from keras import callbacks\n",
    "import numpy as np\n",
    "import matplotlib.pyplot as plt\n",
    "import os"
   ]
  },
  {
   "cell_type": "code",
   "execution_count": null,
   "id": "94f2adbc",
   "metadata": {},
   "outputs": [],
   "source": [
    "img_size = [224, 224]"
   ]
  },
  {
   "cell_type": "code",
   "execution_count": null,
   "id": "3002efd7",
   "metadata": {},
   "outputs": [],
   "source": [
    "train_dir = 'ttv/train'\n",
    "val_dir = 'ttv/validation'"
   ]
  },
  {
   "cell_type": "code",
   "execution_count": null,
   "id": "d3820491",
   "metadata": {},
   "outputs": [],
   "source": [
    "inceptionv3 = InceptionV3(input_shape=img_size + [3], weights='imagenet', include_top=False)\n",
    "    \n",
    "for layer in inceptionv3.layers:\n",
    "    layer.trainable = False"
   ]
  },
  {
   "cell_type": "code",
   "execution_count": null,
   "id": "e24c2668",
   "metadata": {},
   "outputs": [],
   "source": [
    "import os\n",
    "folders = os.listdir(train_dir)"
   ]
  },
  {
   "cell_type": "code",
   "execution_count": null,
   "id": "b02f971e",
   "metadata": {},
   "outputs": [],
   "source": [
    "x = Flatten()(inceptionv3.output)\n",
    "x = Dense(1024)(x)\n",
    "predictions = Dense(len(folders), activation='sigmoid')(x)"
   ]
  },
  {
   "cell_type": "code",
   "execution_count": null,
   "id": "59c9a08b",
   "metadata": {},
   "outputs": [],
   "source": [
    "# model object\n",
    "model = Model(inputs=inceptionv3.input, outputs=predictions)\n",
    "model.summary()\n",
    "model.compile(loss='categorical_crossentropy', optimizer=Adam(learning_rate=3e-4), metrics=['accuracy'])"
   ]
  },
  {
   "cell_type": "code",
   "execution_count": null,
   "id": "f2be0c64",
   "metadata": {
    "scrolled": true
   },
   "outputs": [],
   "source": [
    "from keras.preprocessing.image import ImageDataGenerator\n",
    "\n",
    "train_datagen = ImageDataGenerator(rescale = 1./255,\n",
    "                                   rotation_range = 30,\n",
    "                                   width_shift_range = 0.2,\n",
    "                                   height_shift_range = 0.2,\n",
    "                                   shear_range = 0.2,\n",
    "                                   zoom_range = 0.2,\n",
    "                                   \n",
    "                                   horizontal_flip=True)\n",
    "test_datagen = ImageDataGenerator(rescale = 1./255)\n",
    "\n",
    "training_set = train_datagen.flow_from_directory(train_dir,\n",
    "                                                target_size = (224, 224),\n",
    "                                                batch_size = 64,\n",
    "                                                class_mode = 'categorical')\n",
    "\n",
    "validation_set = test_datagen.flow_from_directory(val_dir,\n",
    "                                               target_size = (224, 224),\n",
    "                                               batch_size = 5,\n",
    "                                               class_mode = 'categorical')"
   ]
  },
  {
   "cell_type": "code",
   "execution_count": null,
   "id": "dd69754a",
   "metadata": {},
   "outputs": [],
   "source": [
    "#creating callback\n",
    "from keras import callbacks\n",
    "\n",
    "callback = callbacks.ModelCheckpoint(filepath='model', save_weights_only=True, verbose=1,\n",
    "                                             monitor='val_accuracy', mode='max', save_best_only=True)"
   ]
  },
  {
   "cell_type": "code",
   "execution_count": null,
   "id": "34f85687",
   "metadata": {},
   "outputs": [],
   "source": [
    "r = model.fit(training_set, steps_per_epoch=len(training_set), callbacks=[callback]\n",
    "    epochs=10, validation_data=validation_set, validation_steps=len(validation_set))"
   ]
  },
  {
   "cell_type": "code",
   "execution_count": null,
   "id": "5aa001eb",
   "metadata": {},
   "outputs": [],
   "source": [
    "import matplotlib.pyplot as plt\n",
    "plt.plot(r.history['accuracy'], label='train_acc')\n",
    "plt.plot(r.history['val_accuracy'], label='val_accuracy')\n",
    "plt.legend()\n",
    "plt.show()"
   ]
  },
  {
   "cell_type": "code",
   "execution_count": null,
   "id": "0af83c8c",
   "metadata": {},
   "outputs": [],
   "source": [
    "# model.save('model/in_model_adam.h5') #important to save model!"
   ]
  },
  {
   "cell_type": "code",
   "execution_count": null,
   "id": "0dd832b6",
   "metadata": {
    "scrolled": true
   },
   "outputs": [],
   "source": [
    "label = training_set.class_indices\n",
    "label = {k:v for v, k in label.items()}\n",
    "print(label)"
   ]
  },
  {
   "cell_type": "code",
   "execution_count": null,
   "id": "97fc26d8",
   "metadata": {},
   "outputs": [],
   "source": [
    "from keras.models import load_model\n",
    "from keras.utils import load_img, img_to_array\n",
    "\n",
    "def output(loc, my_model):\n",
    "    \"\"\"\n",
    "    Parameters\n",
    "    ----------\n",
    "    loc - path of test image\n",
    "    my_model - path of deep learning model\n",
    "    \"\"\"\n",
    "    res = []\n",
    "    img = load_img(loc, target_size=(224, 224, 3))\n",
    "    img = img_to_array(img)\n",
    "    img = img/255\n",
    "    img = np.expand_dims(img, [0])\n",
    "    answer=my_model.predict(img)\n",
    "    y_class = answer.argmax(axis=-1)\n",
    "    res = label[y_class[0]]\n",
    "    return res"
   ]
  },
  {
   "cell_type": "code",
   "execution_count": null,
   "id": "9f4fa3ee",
   "metadata": {},
   "outputs": [],
   "source": [
    "#put filepaths in test1, test2 to test >> eg. to test purple_heron.jpg, put testtest/purple_heron.jpg\n",
    "# can use birds in ttv/test folders to test\n",
    "import os\n",
    "model = load_model('in_model_adam.h5', compile=False)\n",
    "tests = os.listdir('testtest')\n",
    "for test in tests:\n",
    "    testpath = os.path.join('testtest', test)\n",
    "    res = output(testpath, model)\n",
    "    print(f'{test} ------> {res}')"
   ]
  },
  {
   "cell_type": "markdown",
   "id": "0c683b8f",
   "metadata": {},
   "source": [
    "Summary steps to take:\n",
    "1. Preprocess dataset\n",
    "2. Separate dataset into 0.7 train, 0.2 valid, 0.1 test\n",
    "3. Use vgg16\n",
    "4. Use ImageDataGenerator\n",
    "5. Use Dense layer for number of folders\n",
    "6. Compile model\n",
    "7. Train model (peak performance 8 epochs)\n",
    "8. Plot results of training (optional)\n",
    "9. Load model\n",
    "10. Output function for test results"
   ]
  }
 ],
 "metadata": {
  "kernelspec": {
   "display_name": "Python 3 (ipykernel)",
   "language": "python",
   "name": "python3"
  },
  "language_info": {
   "codemirror_mode": {
    "name": "ipython",
    "version": 3
   },
   "file_extension": ".py",
   "mimetype": "text/x-python",
   "name": "python",
   "nbconvert_exporter": "python",
   "pygments_lexer": "ipython3",
   "version": "3.9.7"
  }
 },
 "nbformat": 4,
 "nbformat_minor": 5
}
